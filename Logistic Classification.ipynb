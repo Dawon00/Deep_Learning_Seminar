{
  "nbformat": 4,
  "nbformat_minor": 0,
  "metadata": {
    "colab": {
      "name": "Untitled4.ipynb",
      "provenance": [],
      "authorship_tag": "ABX9TyNoJDUXcF2bYyAPs1XXvWWA",
      "include_colab_link": true
    },
    "kernelspec": {
      "name": "python3",
      "display_name": "Python 3"
    },
    "language_info": {
      "name": "python"
    }
  },
  "cells": [
    {
      "cell_type": "markdown",
      "metadata": {
        "id": "view-in-github",
        "colab_type": "text"
      },
      "source": [
        "<a href=\"https://colab.research.google.com/github/Dawon00/Deep_Learning_Seminar/blob/master/Untitled4.ipynb\" target=\"_parent\"><img src=\"https://colab.research.google.com/assets/colab-badge.svg\" alt=\"Open In Colab\"/></a>"
      ]
    },
    {
      "cell_type": "code",
      "metadata": {
        "colab": {
          "base_uri": "https://localhost:8080/"
        },
        "id": "vcPMh7WHMqeT",
        "outputId": "f46cc106-b04b-4972-cc4e-7d6141f714f5"
      },
      "source": [
        "import tensorflow.compat.v1 as tf\n",
        "tf.disable_v2_behavior()\n",
        "#logistic classification\n",
        "\n",
        "x_data = [[1, 2],[2, 3],[3, 1],[4, 3],[5, 3],[6, 2]]\n",
        "y_data = [[0],[0], [0],[1], [1],[1]]\n",
        "\n",
        "# placeholders for a tensor that will be always fed.\n",
        "X = tf.placeholder(tf.float32, shape=[None, 2])\n",
        "Y = tf.placeholder(tf.float32, shape=[None, 1])\n",
        "\n",
        "W = tf.Variable(tf.random_normal([2, 1]), name='weight')\n",
        "b = tf.Variable(tf.random_normal([1]), name='bias')\n",
        "\n",
        "hypothesis = tf.sigmoid(tf.matmul(X, W) + b)\n",
        "\n",
        "cost = -tf.reduce_mean(Y * tf.log(hypothesis) + (1 - Y) *\n",
        "                       tf.log(1 - hypothesis))\n",
        "\n",
        "train = tf.train.GradientDescentOptimizer(learning_rate=0.01).minimize(cost)\n",
        "\n",
        "\n",
        "predicted = tf.cast(hypothesis > 0.5, dtype=tf.float32)\n",
        "accuracy = tf.reduce_mean(tf.cast(tf.equal(predicted, Y), dtype=tf.float32))\n",
        "\n",
        "\n",
        "with tf.Session() as sess:\n",
        "    sess.run(tf.global_variables_initializer())\n",
        "\n",
        "    for step in range(10001):\n",
        "        cost_val, _ = sess.run([cost, train], feed_dict={X: x_data, Y: y_data})\n",
        "        if step % 200 == 0:\n",
        "            print(step, cost_val)\n",
        "\n",
        "    h, c, a = sess.run([hypothesis, predicted, accuracy],\n",
        "                       feed_dict={X: x_data, Y: y_data})\n",
        "    print(\"\\nHypothesis: \",h, \"\\nCorrect (Y): \",c, \"\\nAccuracy: \",a)"
      ],
      "execution_count": 1,
      "outputs": [
        {
          "output_type": "stream",
          "text": [
            "WARNING:tensorflow:From /usr/local/lib/python3.7/dist-packages/tensorflow/python/compat/v2_compat.py:96: disable_resource_variables (from tensorflow.python.ops.variable_scope) is deprecated and will be removed in a future version.\n",
            "Instructions for updating:\n",
            "non-resource variables are not supported in the long term\n",
            "0 1.1345562\n",
            "200 0.6571466\n",
            "400 0.56136435\n",
            "600 0.5133639\n",
            "800 0.48325548\n",
            "1000 0.46085116\n",
            "1200 0.44227543\n",
            "1400 0.4258848\n",
            "1600 0.41091827\n",
            "1800 0.3969957\n",
            "2000 0.38391325\n",
            "2200 0.37155226\n",
            "2400 0.35983756\n",
            "2600 0.34871602\n",
            "2800 0.3381468\n",
            "3000 0.32809553\n",
            "3200 0.31853196\n",
            "3400 0.30942842\n",
            "3600 0.3007592\n",
            "3800 0.29249987\n",
            "4000 0.28462756\n",
            "4200 0.2771203\n",
            "4400 0.26995763\n",
            "4600 0.26311994\n",
            "4800 0.25658897\n",
            "5000 0.25034723\n",
            "5200 0.24437867\n",
            "5400 0.23866765\n",
            "5600 0.2331999\n",
            "5800 0.22796188\n",
            "6000 0.22294082\n",
            "6200 0.21812487\n",
            "6400 0.21350263\n",
            "6600 0.2090639\n",
            "6800 0.2047988\n",
            "7000 0.200698\n",
            "7200 0.19675286\n",
            "7400 0.19295542\n",
            "7600 0.18929802\n",
            "7800 0.18577342\n",
            "8000 0.18237506\n",
            "8200 0.1790965\n",
            "8400 0.17593189\n",
            "8600 0.17287578\n",
            "8800 0.16992283\n",
            "9000 0.16706824\n",
            "9200 0.16430727\n",
            "9400 0.1616356\n",
            "9600 0.15904914\n",
            "9800 0.15654399\n",
            "10000 0.15411656\n",
            "\n",
            "Hypothesis:  [[0.0327079 ]\n",
            " [0.1614308 ]\n",
            " [0.31414694]\n",
            " [0.7771745 ]\n",
            " [0.9368923 ]\n",
            " [0.97927266]] \n",
            "Correct (Y):  [[0.]\n",
            " [0.]\n",
            " [0.]\n",
            " [1.]\n",
            " [1.]\n",
            " [1.]] \n",
            "Accuracy:  1.0\n"
          ],
          "name": "stdout"
        }
      ]
    }
  ]
}
