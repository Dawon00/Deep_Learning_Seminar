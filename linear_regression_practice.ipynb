{
  "nbformat": 4,
  "nbformat_minor": 0,
  "metadata": {
    "colab": {
      "name": "linear regression practice.ipynb",
      "provenance": [],
      "mount_file_id": "1vKNE6geIl0dXcyKxVJ9wx3odKlsDAu7J",
      "authorship_tag": "ABX9TyNWjnKJbT+SGlYD9WMeIv2s",
      "include_colab_link": true
    },
    "kernelspec": {
      "name": "python3",
      "display_name": "Python 3"
    },
    "language_info": {
      "name": "python"
    }
  },
  "cells": [
    {
      "cell_type": "markdown",
      "metadata": {
        "id": "view-in-github",
        "colab_type": "text"
      },
      "source": [
        "<a href=\"https://colab.research.google.com/github/Dawon00/Deep_Learning_Seminar/blob/master/linear_regression_practice.ipynb\" target=\"_parent\"><img src=\"https://colab.research.google.com/assets/colab-badge.svg\" alt=\"Open In Colab\"/></a>"
      ]
    },
    {
      "cell_type": "code",
      "metadata": {
        "colab": {
          "base_uri": "https://localhost:8080/"
        },
        "id": "CnIhUKYQtPuN",
        "outputId": "14919ee4-12da-4fde-918f-8a339a763115"
      },
      "source": [
        "from google.colab import drive\n",
        "drive.mount('/content/drive')"
      ],
      "execution_count": 6,
      "outputs": [
        {
          "output_type": "stream",
          "text": [
            "Drive already mounted at /content/drive; to attempt to forcibly remount, call drive.mount(\"/content/drive\", force_remount=True).\n"
          ],
          "name": "stdout"
        }
      ]
    },
    {
      "cell_type": "code",
      "metadata": {
        "colab": {
          "base_uri": "https://localhost:8080/"
        },
        "id": "uZWuJ-SBtDHf",
        "outputId": "457b96c4-3d5c-44bb-8b1e-28365ab801ea"
      },
      "source": [
        "path = '/content/drive/MyDrive/data-03-diabetes.csv'\n",
        "\n",
        "import numpy as np\n",
        "\n",
        "diabetes = np.loadtxt(path, delimiter=',', dtype = np.float32)\n",
        "\n",
        "diabetes.shape"
      ],
      "execution_count": 11,
      "outputs": [
        {
          "output_type": "execute_result",
          "data": {
            "text/plain": [
              "(759, 9)"
            ]
          },
          "metadata": {
            "tags": []
          },
          "execution_count": 11
        }
      ]
    },
    {
      "cell_type": "code",
      "metadata": {
        "colab": {
          "base_uri": "https://localhost:8080/"
        },
        "id": "GHU0bkyQuYeG",
        "outputId": "236a8084-ec7c-4b87-cf29-2ead897a4cae"
      },
      "source": [
        "label = [i[-1] for i in diabetes]\n",
        "data = [j[:-1] for j in diabetes]\n",
        "\n",
        "data[0], label[0]"
      ],
      "execution_count": 12,
      "outputs": [
        {
          "output_type": "execute_result",
          "data": {
            "text/plain": [
              "(array([-0.294118  ,  0.487437  ,  0.180328  , -0.292929  ,  0.        ,\n",
              "         0.00149028, -0.53117   , -0.0333333 ], dtype=float32), 0.0)"
            ]
          },
          "metadata": {
            "tags": []
          },
          "execution_count": 12
        }
      ]
    },
    {
      "cell_type": "code",
      "metadata": {
        "colab": {
          "base_uri": "https://localhost:8080/"
        },
        "id": "NdikOPIhvtGR",
        "outputId": "c2ccac32-4945-4104-9f47-55c6657d338d"
      },
      "source": [
        "from sklearn.datasets import load_diabetes\n",
        "\n",
        "# 데이터 가져오기\n",
        "x = load_diabetes().data[:, 3]\n",
        "y = load_diabetes().target\n",
        "\n",
        "data.shape, target.shape\n"
      ],
      "execution_count": 23,
      "outputs": [
        {
          "output_type": "execute_result",
          "data": {
            "text/plain": [
              "((442,), (442,))"
            ]
          },
          "metadata": {
            "tags": []
          },
          "execution_count": 23
        }
      ]
    },
    {
      "cell_type": "code",
      "metadata": {
        "colab": {
          "base_uri": "https://localhost:8080/",
          "height": 265
        },
        "id": "NI4b1tsZxJ5I",
        "outputId": "8f4de7ad-e704-4c04-82da-4a11cba0cb8b"
      },
      "source": [
        "import matplotlib.pyplot as plt\n",
        "\n",
        "plt.scatter(data, target)\n",
        "plt.show()"
      ],
      "execution_count": 21,
      "outputs": [
        {
          "output_type": "display_data",
          "data": {
            "image/png": "[encoded data removed]",
            "text/plain": [
              "<Figure size 432x288 with 1 Axes>"
            ]
          },
          "metadata": {
            "tags": [],
            "needs_background": "light"
          }
        }
      ]
    },
    {
      "cell_type": "code",
      "metadata": {
        "id": "5fPmyDqKxdYd"
      },
      "source": [
        "w = 1.0\n",
        "b = 1.0\n"
      ],
      "execution_count": 22,
      "outputs": []
    },
    {
      "cell_type": "code",
      "metadata": {
        "colab": {
          "base_uri": "https://localhost:8080/"
        },
        "id": "0ss04pcVxsds",
        "outputId": "310c8185-e4d6-42ef-9a4a-7c5a35905072"
      },
      "source": [
        "y_hat = x[0] * w + b\n",
        "print(y_hat)#예측한 값\n",
        "print(y[0])#w 변경 전"
      ],
      "execution_count": 25,
      "outputs": [
        {
          "output_type": "stream",
          "text": [
            "1.0218723549949558\n",
            "151.0\n"
          ],
          "name": "stdout"
        }
      ]
    },
    {
      "cell_type": "code",
      "metadata": {
        "colab": {
          "base_uri": "https://localhost:8080/"
        },
        "id": "4mo0005NyEM8",
        "outputId": "dbebbf0a-9e30-4a61-9b6a-5719973af352"
      },
      "source": [
        "w_inc = w + 0.1 #1.1\n",
        "y_hat_inc = w_inc * x[0] +b\n",
        "print(y_hat_inc)#w 변경후"
      ],
      "execution_count": 26,
      "outputs": [
        {
          "output_type": "stream",
          "text": [
            "1.0240595904944514\n"
          ],
          "name": "stdout"
        }
      ]
    },
    {
      "cell_type": "code",
      "metadata": {
        "colab": {
          "base_uri": "https://localhost:8080/"
        },
        "id": "SvYJnIUkyXhI",
        "outputId": "74c12ba5-284b-4ce4-a7e9-3f7514e5e382"
      },
      "source": [
        "w_rate = (y_hat_inc - y_hat) / (w_inc - w) #w의 증가량\n",
        "w_rate"
      ],
      "execution_count": 27,
      "outputs": [
        {
          "output_type": "execute_result",
          "data": {
            "text/plain": [
              "0.02187235499495619"
            ]
          },
          "metadata": {
            "tags": []
          },
          "execution_count": 27
        }
      ]
    },
    {
      "cell_type": "code",
      "metadata": {
        "colab": {
          "base_uri": "https://localhost:8080/"
        },
        "id": "y--d_Y9cyvqA",
        "outputId": "c71191a6-ba82-4c39-b0c6-63560a362f7c"
      },
      "source": [
        "w_new = w + w_rate\n",
        "w_new"
      ],
      "execution_count": 29,
      "outputs": [
        {
          "output_type": "execute_result",
          "data": {
            "text/plain": [
              "1.0218723549949562"
            ]
          },
          "metadata": {
            "tags": []
          },
          "execution_count": 29
        }
      ]
    },
    {
      "cell_type": "code",
      "metadata": {
        "colab": {
          "base_uri": "https://localhost:8080/"
        },
        "id": "MPBSWZPMzF-F",
        "outputId": "541799d9-bd75-46b0-bfad-54f7b7916e85"
      },
      "source": [
        "b_inc = b + 0.1 #b가 0.1만큼 증가할때 얼마나 증가하나?\n",
        "y_hat_inc = w *x[0] + b_inc\n",
        "print(y_hat_inc)\n",
        "\n",
        "b_rate = (y_hat_inc - y_hat) / (b_inc - b)\n",
        "b_rate #1"
      ],
      "execution_count": 31,
      "outputs": [
        {
          "output_type": "stream",
          "text": [
            "1.1218723549949559\n"
          ],
          "name": "stdout"
        },
        {
          "output_type": "execute_result",
          "data": {
            "text/plain": [
              "1.0"
            ]
          },
          "metadata": {
            "tags": []
          },
          "execution_count": 31
        }
      ]
    },
    {
      "cell_type": "code",
      "metadata": {
        "colab": {
          "base_uri": "https://localhost:8080/"
        },
        "id": "3L__jkxzzfCm",
        "outputId": "122928c3-5775-4594-84e3-7eeb886807dc"
      },
      "source": [
        "b_new = b + 1\n",
        "b_new"
      ],
      "execution_count": 32,
      "outputs": [
        {
          "output_type": "execute_result",
          "data": {
            "text/plain": [
              "2.0"
            ]
          },
          "metadata": {
            "tags": []
          },
          "execution_count": 32
        }
      ]
    },
    {
      "cell_type": "code",
      "metadata": {
        "colab": {
          "base_uri": "https://localhost:8080/"
        },
        "id": "8mAjufUEz6MD",
        "outputId": "8267e5b2-8410-4588-f213-e4c8a1588ad9"
      },
      "source": [
        "err = y[0] - y_hat\n",
        "w_new = w + w_rate * err\n",
        "b_new = b + err\n",
        "print(w_new, b_new)"
      ],
      "execution_count": 35,
      "outputs": [
        {
          "output_type": "stream",
          "text": [
            "4.2803748493304035 150.97812764500503\n"
          ],
          "name": "stdout"
        }
      ]
    },
    {
      "cell_type": "code",
      "metadata": {
        "colab": {
          "base_uri": "https://localhost:8080/"
        },
        "id": "yfG5iFre0YBI",
        "outputId": "b3127ab9-4fc8-4f0d-d60b-bfd4f9be8047"
      },
      "source": [
        "y_hat = x[1] * w_new + b_new\n",
        "err = y[1] - y_hat\n",
        "w_new = w + w_rate * err\n",
        "b_new = b + err\n",
        "print(w_new, b_new)"
      ],
      "execution_count": 38,
      "outputs": [
        {
          "output_type": "stream",
          "text": [
            "4.277530296852364 150.84807523507044\n"
          ],
          "name": "stdout"
        }
      ]
    },
    {
      "cell_type": "code",
      "metadata": {
        "colab": {
          "base_uri": "https://localhost:8080/"
        },
        "id": "BWX6erAc0oCo",
        "outputId": "7c7d9381-f9a4-429d-bd62-2bb820660555"
      },
      "source": [
        "for x_i, y_i in zip(x,y):\n",
        "  y_hat = x_i * w_new + b_new #예측 값 만들기\n",
        "  err = y_i - y_hat #예측값과 실제값의 차이를 저장\n",
        "  w_rate = x_i #새로운 x\n",
        "  w_new = w_new + w_rate * err #w를 업데이트하기\n",
        "  b_new = b_new + err\n",
        "print(w_new, b_new)"
      ],
      "execution_count": 46,
      "outputs": [
        {
          "output_type": "stream",
          "text": [
            "560.669411443362 101.8676408467141\n"
          ],
          "name": "stdout"
        }
      ]
    },
    {
      "cell_type": "code",
      "metadata": {
        "colab": {
          "base_uri": "https://localhost:8080/",
          "height": 265
        },
        "id": "t4JtwNrZ1XtD",
        "outputId": "81dc8e2a-35b5-4722-bef0-a86bf9ee7f16"
      },
      "source": [
        "plt.scatter(x,y)\n",
        "pt1 = (-0.1, -0.1 * w_new + b_new)\n",
        "pt2 = (0.2, 0.2 * w_new + b_new)\n",
        "plt.plot([pt1[0], pt2[0]], [pt1[1], pt2[1]], 'r-')\n",
        "plt.show()"
      ],
      "execution_count": 48,
      "outputs": [
        {
          "output_type": "display_data",
          "data": {
            "image/png": "[encoded data removed]",
            "text/plain": [
              "<Figure size 432x288 with 1 Axes>"
            ]
          },
          "metadata": {
            "tags": [],
            "needs_background": "light"
          }
        }
      ]
    },
    {
      "cell_type": "code",
      "metadata": {
        "id": "2dOgtTfe2vkW"
      },
      "source": [
        "# 경사하강법 적용\n",
        "class Neuron:\n",
        "  def __init__(self):\n",
        "    self.w = 1.0\n",
        "    self.b = 1.0\n",
        "  \n",
        "  def linear(self, x):\n",
        "    y_hat = x * self.w + self.b\n",
        "    return y_hat\n",
        "  \n",
        "  def backpropagation(self, x, err):\n",
        "    w_grad = w * err #변화율\n",
        "    b_grad = err\n",
        "    return w_grad, b_grad\n",
        "\n",
        "  def fit(self, x, y, epochs = 100): #반복 횟수\n",
        "    for i in range(epochs):\n",
        "      for x_i, y_i in zip(x,y):\n",
        "        y_hat = self.linear(x)\n",
        "        err = -(y_i - y_hat)\n",
        "        w_grad, b_grad = self.backpropagation(x_i, err)\n",
        "        self.w -= w_grad\n",
        "        self.b -= b_grad"
      ],
      "execution_count": 53,
      "outputs": []
    },
    {
      "cell_type": "markdown",
      "metadata": {
        "id": "Gw2jxs5p30_M"
      },
      "source": [
        "# (y - y_hat)^2\n",
        "# y_hat = w * x + b\n",
        "# -2x(y - y_hat)"
      ]
    },
    {
      "cell_type": "code",
      "metadata": {
        "id": "ZOPcWX7Y5G4P"
      },
      "source": [
        "neuron = Neuron()\n",
        "neuron.fit(x,y)\n",
        "# ***"
      ],
      "execution_count": 59,
      "outputs": []
    },
    {
      "cell_type": "code",
      "metadata": {
        "colab": {
          "base_uri": "https://localhost:8080/"
        },
        "id": "wefgSoL36i6r",
        "outputId": "fbf776db-18fb-44f4-d355-caee6713a638"
      },
      "source": [
        "from sklearn.datasets import load_diabetes\n",
        "\n",
        "# 데이터 가져오기\n",
        "x = load_diabetes().data[:, 3]\n",
        "y = load_diabetes().target\n",
        "\n",
        "data.shape, target.shape\n"
      ],
      "execution_count": 60,
      "outputs": [
        {
          "output_type": "execute_result",
          "data": {
            "text/plain": [
              "((442,), (442,))"
            ]
          },
          "metadata": {
            "tags": []
          },
          "execution_count": 60
        }
      ]
    },
    {
      "cell_type": "code",
      "metadata": {
        "id": "AlLZAB-z6ldI"
      },
      "source": [
        "import tensorflow as tf\n",
        "import random\n",
        "\n",
        "W = tf.Variable(random.random())\n",
        "b = tf.Variable(random.random())"
      ],
      "execution_count": 62,
      "outputs": []
    },
    {
      "cell_type": "code",
      "metadata": {
        "id": "rHTBBeaL63s4"
      },
      "source": [
        "def compute_loss():\n",
        "  y_hat = W * x + b\n",
        "  loss = tf.reduce_mean(tf.square(y_hat - y), axis = 0)\n",
        "  return loss"
      ],
      "execution_count": 73,
      "outputs": []
    },
    {
      "cell_type": "code",
      "metadata": {
        "id": "z5yIhtGM-eIa",
        "outputId": "c68cca45-d8ea-4465-8379-27a3f806c3ec",
        "colab": {
          "base_uri": "https://localhost:8080/"
        }
      },
      "source": [
        "optimizer = tf.keras.optimizers.SGD(learning_rate=0.05)#확률적 경사 하강법\n",
        "\n",
        "for epoch in range(20000):\n",
        "  optimizer.minimize(compute_loss, var_list=[W, b]) #가중치와 절편 업데이트\n",
        "  if epoch % 1000 == 0:\n",
        "    print('epoch: ', epoch, 'W: ', W.numpy(), 'b: ', b.numpy(), 'loss: ', compute_loss().numpy()) #numpy 붙이면 깔끔"
      ],
      "execution_count": 74,
      "outputs": [
        {
          "output_type": "stream",
          "text": [
            "epoch:  0 W:  0.4809346 b:  15.358037 loss:  24635.854\n",
            "epoch:  1000 W:  145.11668 b:  152.13342 loss:  5508.2036\n",
            "epoch:  2000 W:  260.46414 b:  152.13342 loss:  5240.9985\n",
            "epoch:  3000 W:  352.45398 b:  152.13342 loss:  5071.0537\n",
            "epoch:  4000 W:  425.81592 b:  152.13342 loss:  4962.9673\n",
            "epoch:  5000 W:  484.32254 b:  152.13342 loss:  4894.2227\n",
            "epoch:  6000 W:  530.9815 b:  152.13342 loss:  4850.5005\n",
            "epoch:  7000 W:  568.1923 b:  152.13342 loss:  4822.6934\n",
            "epoch:  8000 W:  597.8682 b:  152.13342 loss:  4805.0063\n",
            "epoch:  9000 W:  621.5349 b:  152.13342 loss:  4793.758\n",
            "epoch:  10000 W:  640.4089 b:  152.13342 loss:  4786.604\n",
            "epoch:  11000 W:  655.46094 b:  152.13342 loss:  4782.053\n",
            "epoch:  12000 W:  667.4651 b:  152.13342 loss:  4779.1597\n",
            "epoch:  13000 W:  677.0384 b:  152.13342 loss:  4777.3193\n",
            "epoch:  14000 W:  684.6733 b:  152.13342 loss:  4776.148\n",
            "epoch:  15000 W:  690.7617 b:  152.13342 loss:  4775.404\n",
            "epoch:  16000 W:  695.61755 b:  152.13342 loss:  4774.9307\n",
            "epoch:  17000 W:  699.49054 b:  152.13342 loss:  4774.629\n",
            "epoch:  18000 W:  702.57837 b:  152.13342 loss:  4774.438\n",
            "epoch:  19000 W:  705.04114 b:  152.13342 loss:  4774.3164\n"
          ],
          "name": "stdout"
        }
      ]
    },
    {
      "cell_type": "code",
      "metadata": {
        "id": "DUsGcCB-9f3s",
        "outputId": "67271786-9274-4b6f-ef42-94c3092c9341",
        "colab": {
          "base_uri": "https://localhost:8080/",
          "height": 265
        }
      },
      "source": [
        "line_x = np.arange(min(x), max(x), 0.1)\n",
        "line_y = W * line_x + b\n",
        "\n",
        "plt.plot(line_x, line_y, 'r-')\n",
        "plt.scatter(x, y)\n",
        "plt.show()"
      ],
      "execution_count": 75,
      "outputs": [
        {
          "output_type": "display_data",
          "data": {
            "image/png": "[encoded data removed]",
            "text/plain": [
              "<Figure size 432x288 with 1 Axes>"
            ]
          },
          "metadata": {
            "tags": [],
            "needs_background": "light"
          }
        }
      ]
    }
  ]
}