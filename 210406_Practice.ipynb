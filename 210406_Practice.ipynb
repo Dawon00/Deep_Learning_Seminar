{
  "nbformat": 4,
  "nbformat_minor": 0,
  "metadata": {
    "colab": {
      "name": "210406_Practice.ipynb",
      "provenance": [],
      "authorship_tag": "ABX9TyN42eJwFHqkA4rBKvmf4b3X",
      "include_colab_link": true
    },
    "kernelspec": {
      "name": "python3",
      "display_name": "Python 3"
    },
    "language_info": {
      "name": "python"
    }
  },
  "cells": [
    {
      "cell_type": "markdown",
      "metadata": {
        "id": "view-in-github",
        "colab_type": "text"
      },
      "source": [
        "<a href=\"https://colab.research.google.com/github/Dawon00/Deep_Learning_Seminar/blob/master/210406_Practice.ipynb\" target=\"_parent\"><img src=\"https://colab.research.google.com/assets/colab-badge.svg\" alt=\"Open In Colab\"/></a>"
      ]
    },
    {
      "cell_type": "markdown",
      "metadata": {
        "id": "n9eubUbb7TxT"
      },
      "source": [
        "# python"
      ]
    },
    {
      "cell_type": "code",
      "metadata": {
        "colab": {
          "base_uri": "https://localhost:8080/"
        },
        "id": "q5SSUDlEw2fw",
        "outputId": "8745a69e-8a02-4ab1-8cc2-c8cae5759143"
      },
      "source": [
        "from sklearn.datasets import load_breast_cancer\n",
        "\n",
        "cancer = load_breast_cancer()\n",
        "x = cancer.data\n",
        "y = cancer.target\n",
        "\n",
        "print(x.shape, y.shape)"
      ],
      "execution_count": 3,
      "outputs": [
        {
          "output_type": "stream",
          "text": [
            "(569, 30) (569,)\n"
          ],
          "name": "stdout"
        }
      ]
    },
    {
      "cell_type": "code",
      "metadata": {
        "colab": {
          "base_uri": "https://localhost:8080/"
        },
        "id": "7O-Z5WudxQX-",
        "outputId": "dc7db783-cc12-446f-b3a9-46845bb1ce99"
      },
      "source": [
        "x[0]"
      ],
      "execution_count": 4,
      "outputs": [
        {
          "output_type": "execute_result",
          "data": {
            "text/plain": [
              "array([1.799e+01, 1.038e+01, 1.228e+02, 1.001e+03, 1.184e-01, 2.776e-01,\n",
              "       3.001e-01, 1.471e-01, 2.419e-01, 7.871e-02, 1.095e+00, 9.053e-01,\n",
              "       8.589e+00, 1.534e+02, 6.399e-03, 4.904e-02, 5.373e-02, 1.587e-02,\n",
              "       3.003e-02, 6.193e-03, 2.538e+01, 1.733e+01, 1.846e+02, 2.019e+03,\n",
              "       1.622e-01, 6.656e-01, 7.119e-01, 2.654e-01, 4.601e-01, 1.189e-01])"
            ]
          },
          "metadata": {
            "tags": []
          },
          "execution_count": 4
        }
      ]
    },
    {
      "cell_type": "code",
      "metadata": {
        "colab": {
          "base_uri": "https://localhost:8080/",
          "height": 279
        },
        "id": "0IsgnpkqxgYU",
        "outputId": "4b4f1848-352a-428a-8b85-ee09c25540a6"
      },
      "source": [
        "import matplotlib.pyplot as plt\n",
        "\n",
        "plt.boxplot(x)\n",
        "plt.xlabel('feature')\n",
        "plt.ylabel('value')\n",
        "plt.show()"
      ],
      "execution_count": 5,
      "outputs": [
        {
          "output_type": "display_data",
          "data": {
            "image/png": "[encoded data removed]",
            "text/plain": [
              "<Figure size 432x288 with 1 Axes>"
            ]
          },
          "metadata": {
            "tags": [],
            "needs_background": "light"
          }
        }
      ]
    },
    {
      "cell_type": "code",
      "metadata": {
        "colab": {
          "base_uri": "https://localhost:8080/"
        },
        "id": "lye3nhkxxw6U",
        "outputId": "cd230c72-a36f-4664-f629-673faabfa057"
      },
      "source": [
        "import numpy as np\n",
        "\n",
        "np.unique(y, return_counts=True)"
      ],
      "execution_count": 8,
      "outputs": [
        {
          "output_type": "execute_result",
          "data": {
            "text/plain": [
              "(array([0, 1]), array([212, 357]))"
            ]
          },
          "metadata": {
            "tags": []
          },
          "execution_count": 8
        }
      ]
    },
    {
      "cell_type": "code",
      "metadata": {
        "colab": {
          "base_uri": "https://localhost:8080/"
        },
        "id": "rpuz5-SRyRK9",
        "outputId": "fa8a60cc-37e4-4359-eb5e-1c098cea1a41"
      },
      "source": [
        "from sklearn.model_selection import train_test_split\n",
        "\n",
        "x_train, x_test, y_train, y_test = train_test_split(x, y, stratify = y, test_size = 0.2, random_state = 22) #test : train = 2: 8\n",
        "print(x_train.shape, y_train.shape)\n",
        "print(x_test.shape, y_test.shape)\n",
        "\n",
        "np.unique(y_train, return_counts = True)"
      ],
      "execution_count": 10,
      "outputs": [
        {
          "output_type": "stream",
          "text": [
            "(455, 30) (455,)\n",
            "(114, 30) (114,)\n"
          ],
          "name": "stdout"
        },
        {
          "output_type": "execute_result",
          "data": {
            "text/plain": [
              "(array([0, 1]), array([170, 285]))"
            ]
          },
          "metadata": {
            "tags": []
          },
          "execution_count": 10
        }
      ]
    },
    {
      "cell_type": "code",
      "metadata": {
        "id": "oPVRovwJyumD"
      },
      "source": [
        "class LogisticRegression:\n",
        "  def __init__(self):\n",
        "    self.W = None\n",
        "    self.b = None\n",
        "\n",
        "  def forpass(self, x):\n",
        "    z = np.sum(x * self.W) + self.b\n",
        "    return z\n",
        "\n",
        "  def sigmoid(self, z):\n",
        "    a = 1 / (1 + np.exp(-z))\n",
        "    return a\n",
        "  \n",
        "  def backprop(self, x, err):\n",
        "    w_grad = x * err\n",
        "    b_grad = 1 * err\n",
        "    return w_grad, b_grad\n",
        "\n",
        "  def fit(self, x, y):\n",
        "    self.W = np.ones(x.shape[1])\n",
        "    self.b = 0\n",
        "\n",
        "    for i in range(20000 + 1):\n",
        "      for x_i, y_i in zip(x, y):\n",
        "        z = self.forpass(x_i)\n",
        "        a = self.sigmoid(z)\n",
        "        err = (y_i - a)\n",
        "        w_grad, b_grad = self.backprop(x_i, err)\n",
        "        self.W -= w_grad\n",
        "        self.b -= b_grad\n",
        "\n",
        "  def predict(self, x):\n",
        "    z = [self.forpass(x_i) for x_i in x]\n",
        "    a = self.sigmoid(np.array(z))\n",
        "    return a > 0.5\n"
      ],
      "execution_count": 17,
      "outputs": []
    },
    {
      "cell_type": "code",
      "metadata": {
        "id": "SIxnGZ7x1rQQ"
      },
      "source": [
        "neuron = LogisticRegression()\n",
        "neuron.fit(x_train, y_train)"
      ],
      "execution_count": 18,
      "outputs": []
    },
    {
      "cell_type": "code",
      "metadata": {
        "colab": {
          "base_uri": "https://localhost:8080/"
        },
        "id": "uR2KUbBO10va",
        "outputId": "ccec2a45-84cd-4ee8-a611-2994c686a882"
      },
      "source": [
        "np.mean(neuron.predict(x_test) == y_test)"
      ],
      "execution_count": 20,
      "outputs": [
        {
          "output_type": "execute_result",
          "data": {
            "text/plain": [
              "0.631578947368421"
            ]
          },
          "metadata": {
            "tags": []
          },
          "execution_count": 20
        }
      ]
    },
    {
      "cell_type": "markdown",
      "metadata": {
        "id": "5lSzJ7A535sp"
      },
      "source": [
        "#tensorflow"
      ]
    },
    {
      "cell_type": "code",
      "metadata": {
        "colab": {
          "base_uri": "https://localhost:8080/"
        },
        "id": "ugDgGAUF2nsn",
        "outputId": "ed19cf3b-b40d-4f3b-b4a5-f460b65ca37c"
      },
      "source": [
        "import tensorflow as tf\n",
        "\n",
        "tf.model = tf.keras.Sequential()\n",
        "tf.model.add(tf.keras.layers.Dense(units = 1, input_dim = x_train.shape[1], activation='sigmoid'))#units = output shape, input_dim은 들어오는 데이터의 차원\n",
        "tf.model.compile(loss='binary_crossentropy', optimizer=tf.keras.optimizers.SGD(lr=0.003), metrics=['accuracy'])\n",
        "tf.model.summary()"
      ],
      "execution_count": 22,
      "outputs": [
        {
          "output_type": "stream",
          "text": [
            "Model: \"sequential_1\"\n",
            "_________________________________________________________________\n",
            "Layer (type)                 Output Shape              Param #   \n",
            "=================================================================\n",
            "dense_1 (Dense)              (None, 1)                 31        \n",
            "=================================================================\n",
            "Total params: 31\n",
            "Trainable params: 31\n",
            "Non-trainable params: 0\n",
            "_________________________________________________________________\n"
          ],
          "name": "stdout"
        }
      ]
    },
    {
      "cell_type": "code",
      "metadata": {
        "colab": {
          "base_uri": "https://localhost:8080/"
        },
        "id": "yejpDxac441D",
        "outputId": "a2f353d7-4899-47ba-f9b6-db6a31877a01"
      },
      "source": [
        "history = tf.model.fit(x_train, y_train, epochs = 100)#history에 오차와 정확도가 담긴다"
      ],
      "execution_count": 23,
      "outputs": [
        {
          "output_type": "stream",
          "text": [
            "Epoch 1/100\n",
            "15/15 [==============================] - 1s 1ms/step - loss: 488.7765 - accuracy: 0.4912\n",
            "Epoch 2/100\n",
            "15/15 [==============================] - 0s 1ms/step - loss: 669.4938 - accuracy: 0.4559\n",
            "Epoch 3/100\n",
            "15/15 [==============================] - 0s 1ms/step - loss: 237.1587 - accuracy: 0.6075\n",
            "Epoch 4/100\n",
            "15/15 [==============================] - 0s 2ms/step - loss: 293.3587 - accuracy: 0.6092\n",
            "Epoch 5/100\n",
            "15/15 [==============================] - 0s 1ms/step - loss: 281.4216 - accuracy: 0.5683\n",
            "Epoch 6/100\n",
            "15/15 [==============================] - 0s 1ms/step - loss: 274.1424 - accuracy: 0.5595\n",
            "Epoch 7/100\n",
            "15/15 [==============================] - 0s 1ms/step - loss: 149.1767 - accuracy: 0.6467\n",
            "Epoch 8/100\n",
            "15/15 [==============================] - 0s 1ms/step - loss: 144.3462 - accuracy: 0.7881\n",
            "Epoch 9/100\n",
            "15/15 [==============================] - 0s 1ms/step - loss: 111.8819 - accuracy: 0.7161\n",
            "Epoch 10/100\n",
            "15/15 [==============================] - 0s 1ms/step - loss: 172.0775 - accuracy: 0.6160\n",
            "Epoch 11/100\n",
            "15/15 [==============================] - 0s 2ms/step - loss: 132.5089 - accuracy: 0.6394\n",
            "Epoch 12/100\n",
            "15/15 [==============================] - 0s 1ms/step - loss: 41.5377 - accuracy: 0.8348\n",
            "Epoch 13/100\n",
            "15/15 [==============================] - 0s 1ms/step - loss: 82.5348 - accuracy: 0.7965\n",
            "Epoch 14/100\n",
            "15/15 [==============================] - 0s 2ms/step - loss: 59.5495 - accuracy: 0.7945\n",
            "Epoch 15/100\n",
            "15/15 [==============================] - 0s 1ms/step - loss: 25.4021 - accuracy: 0.8780\n",
            "Epoch 16/100\n",
            "15/15 [==============================] - 0s 1ms/step - loss: 273.4023 - accuracy: 0.5881\n",
            "Epoch 17/100\n",
            "15/15 [==============================] - 0s 1ms/step - loss: 61.3205 - accuracy: 0.7655\n",
            "Epoch 18/100\n",
            "15/15 [==============================] - 0s 1ms/step - loss: 74.6245 - accuracy: 0.7683\n",
            "Epoch 19/100\n",
            "15/15 [==============================] - 0s 1ms/step - loss: 25.3907 - accuracy: 0.8566\n",
            "Epoch 20/100\n",
            "15/15 [==============================] - 0s 2ms/step - loss: 79.8819 - accuracy: 0.7597\n",
            "Epoch 21/100\n",
            "15/15 [==============================] - 0s 1ms/step - loss: 40.2870 - accuracy: 0.8690\n",
            "Epoch 22/100\n",
            "15/15 [==============================] - 0s 1ms/step - loss: 16.4539 - accuracy: 0.8933\n",
            "Epoch 23/100\n",
            "15/15 [==============================] - 0s 1ms/step - loss: 29.1711 - accuracy: 0.8490\n",
            "Epoch 24/100\n",
            "15/15 [==============================] - 0s 1ms/step - loss: 40.9205 - accuracy: 0.8216\n",
            "Epoch 25/100\n",
            "15/15 [==============================] - 0s 1ms/step - loss: 30.7007 - accuracy: 0.8778\n",
            "Epoch 26/100\n",
            "15/15 [==============================] - 0s 1ms/step - loss: 124.1594 - accuracy: 0.7680\n",
            "Epoch 27/100\n",
            "15/15 [==============================] - 0s 2ms/step - loss: 35.1047 - accuracy: 0.8473\n",
            "Epoch 28/100\n",
            "15/15 [==============================] - 0s 1ms/step - loss: 114.0985 - accuracy: 0.7631\n",
            "Epoch 29/100\n",
            "15/15 [==============================] - 0s 1ms/step - loss: 52.5205 - accuracy: 0.8137\n",
            "Epoch 30/100\n",
            "15/15 [==============================] - 0s 1ms/step - loss: 17.7382 - accuracy: 0.9007\n",
            "Epoch 31/100\n",
            "15/15 [==============================] - 0s 1ms/step - loss: 56.4213 - accuracy: 0.7955\n",
            "Epoch 32/100\n",
            "15/15 [==============================] - 0s 1ms/step - loss: 18.7971 - accuracy: 0.8936\n",
            "Epoch 33/100\n",
            "15/15 [==============================] - 0s 1ms/step - loss: 104.2226 - accuracy: 0.7602\n",
            "Epoch 34/100\n",
            "15/15 [==============================] - 0s 1ms/step - loss: 11.5269 - accuracy: 0.9238\n",
            "Epoch 35/100\n",
            "15/15 [==============================] - 0s 1ms/step - loss: 20.4067 - accuracy: 0.8866\n",
            "Epoch 36/100\n",
            "15/15 [==============================] - 0s 1ms/step - loss: 27.1971 - accuracy: 0.8626\n",
            "Epoch 37/100\n",
            "15/15 [==============================] - 0s 1ms/step - loss: 26.3285 - accuracy: 0.8701\n",
            "Epoch 38/100\n",
            "15/15 [==============================] - 0s 1ms/step - loss: 44.4969 - accuracy: 0.8149\n",
            "Epoch 39/100\n",
            "15/15 [==============================] - 0s 1ms/step - loss: 97.8913 - accuracy: 0.7932\n",
            "Epoch 40/100\n",
            "15/15 [==============================] - 0s 1ms/step - loss: 25.6448 - accuracy: 0.8732\n",
            "Epoch 41/100\n",
            "15/15 [==============================] - 0s 1ms/step - loss: 20.9108 - accuracy: 0.9303\n",
            "Epoch 42/100\n",
            "15/15 [==============================] - 0s 1ms/step - loss: 69.1650 - accuracy: 0.7750\n",
            "Epoch 43/100\n",
            "15/15 [==============================] - 0s 2ms/step - loss: 44.5479 - accuracy: 0.8515\n",
            "Epoch 44/100\n",
            "15/15 [==============================] - 0s 1ms/step - loss: 24.4737 - accuracy: 0.9063\n",
            "Epoch 45/100\n",
            "15/15 [==============================] - 0s 1ms/step - loss: 25.7467 - accuracy: 0.8840\n",
            "Epoch 46/100\n",
            "15/15 [==============================] - 0s 1ms/step - loss: 17.5944 - accuracy: 0.8941\n",
            "Epoch 47/100\n",
            "15/15 [==============================] - 0s 2ms/step - loss: 15.0504 - accuracy: 0.9254\n",
            "Epoch 48/100\n",
            "15/15 [==============================] - 0s 1ms/step - loss: 24.5030 - accuracy: 0.8762\n",
            "Epoch 49/100\n",
            "15/15 [==============================] - 0s 1ms/step - loss: 12.9195 - accuracy: 0.8998\n",
            "Epoch 50/100\n",
            "15/15 [==============================] - 0s 1ms/step - loss: 53.3395 - accuracy: 0.8159\n",
            "Epoch 51/100\n",
            "15/15 [==============================] - 0s 1ms/step - loss: 13.4696 - accuracy: 0.9122\n",
            "Epoch 52/100\n",
            "15/15 [==============================] - 0s 1ms/step - loss: 162.2779 - accuracy: 0.6846\n",
            "Epoch 53/100\n",
            "15/15 [==============================] - 0s 1ms/step - loss: 13.3112 - accuracy: 0.9115\n",
            "Epoch 54/100\n",
            "15/15 [==============================] - 0s 1ms/step - loss: 135.7121 - accuracy: 0.7442\n",
            "Epoch 55/100\n",
            "15/15 [==============================] - 0s 1ms/step - loss: 18.2810 - accuracy: 0.8957\n",
            "Epoch 56/100\n",
            "15/15 [==============================] - 0s 1ms/step - loss: 73.9913 - accuracy: 0.8172\n",
            "Epoch 57/100\n",
            "15/15 [==============================] - 0s 2ms/step - loss: 19.4946 - accuracy: 0.8889\n",
            "Epoch 58/100\n",
            "15/15 [==============================] - 0s 1ms/step - loss: 13.6210 - accuracy: 0.8897\n",
            "Epoch 59/100\n",
            "15/15 [==============================] - 0s 2ms/step - loss: 15.8285 - accuracy: 0.9067\n",
            "Epoch 60/100\n",
            "15/15 [==============================] - 0s 2ms/step - loss: 162.7135 - accuracy: 0.7439\n",
            "Epoch 61/100\n",
            "15/15 [==============================] - 0s 2ms/step - loss: 14.2019 - accuracy: 0.9239\n",
            "Epoch 62/100\n",
            "15/15 [==============================] - 0s 2ms/step - loss: 88.0051 - accuracy: 0.7761\n",
            "Epoch 63/100\n",
            "15/15 [==============================] - 0s 1ms/step - loss: 24.5594 - accuracy: 0.8551\n",
            "Epoch 64/100\n",
            "15/15 [==============================] - 0s 1ms/step - loss: 27.4936 - accuracy: 0.8527\n",
            "Epoch 65/100\n",
            "15/15 [==============================] - 0s 1ms/step - loss: 10.5396 - accuracy: 0.9312\n",
            "Epoch 66/100\n",
            "15/15 [==============================] - 0s 1ms/step - loss: 19.2365 - accuracy: 0.8951\n",
            "Epoch 67/100\n",
            "15/15 [==============================] - 0s 1ms/step - loss: 20.9600 - accuracy: 0.8643\n",
            "Epoch 68/100\n",
            "15/15 [==============================] - 0s 2ms/step - loss: 19.9777 - accuracy: 0.8859\n",
            "Epoch 69/100\n",
            "15/15 [==============================] - 0s 2ms/step - loss: 61.9558 - accuracy: 0.8180\n",
            "Epoch 70/100\n",
            "15/15 [==============================] - 0s 1ms/step - loss: 14.9486 - accuracy: 0.8842\n",
            "Epoch 71/100\n",
            "15/15 [==============================] - 0s 1ms/step - loss: 63.8314 - accuracy: 0.8096\n",
            "Epoch 72/100\n",
            "15/15 [==============================] - 0s 1ms/step - loss: 26.8713 - accuracy: 0.8380\n",
            "Epoch 73/100\n",
            "15/15 [==============================] - 0s 1ms/step - loss: 30.5222 - accuracy: 0.9012\n",
            "Epoch 74/100\n",
            "15/15 [==============================] - 0s 2ms/step - loss: 55.1697 - accuracy: 0.7925\n",
            "Epoch 75/100\n",
            "15/15 [==============================] - 0s 2ms/step - loss: 12.8856 - accuracy: 0.9165\n",
            "Epoch 76/100\n",
            "15/15 [==============================] - 0s 2ms/step - loss: 17.1658 - accuracy: 0.8818\n",
            "Epoch 77/100\n",
            "15/15 [==============================] - 0s 2ms/step - loss: 65.5274 - accuracy: 0.7610\n",
            "Epoch 78/100\n",
            "15/15 [==============================] - 0s 1ms/step - loss: 28.1515 - accuracy: 0.8485\n",
            "Epoch 79/100\n",
            "15/15 [==============================] - 0s 1ms/step - loss: 95.5236 - accuracy: 0.7926\n",
            "Epoch 80/100\n",
            "15/15 [==============================] - 0s 1ms/step - loss: 43.7797 - accuracy: 0.8203\n",
            "Epoch 81/100\n",
            "15/15 [==============================] - 0s 1ms/step - loss: 18.4584 - accuracy: 0.8686\n",
            "Epoch 82/100\n",
            "15/15 [==============================] - 0s 1ms/step - loss: 32.5245 - accuracy: 0.8467\n",
            "Epoch 83/100\n",
            "15/15 [==============================] - 0s 1ms/step - loss: 17.4085 - accuracy: 0.8954\n",
            "Epoch 84/100\n",
            "15/15 [==============================] - 0s 1ms/step - loss: 62.1415 - accuracy: 0.7945\n",
            "Epoch 85/100\n",
            "15/15 [==============================] - 0s 1ms/step - loss: 30.1293 - accuracy: 0.8645\n",
            "Epoch 86/100\n",
            "15/15 [==============================] - 0s 2ms/step - loss: 37.3815 - accuracy: 0.8363\n",
            "Epoch 87/100\n",
            "15/15 [==============================] - 0s 2ms/step - loss: 14.3522 - accuracy: 0.9077\n",
            "Epoch 88/100\n",
            "15/15 [==============================] - 0s 1ms/step - loss: 21.4532 - accuracy: 0.8916\n",
            "Epoch 89/100\n",
            "15/15 [==============================] - 0s 1ms/step - loss: 25.7798 - accuracy: 0.8614\n",
            "Epoch 90/100\n",
            "15/15 [==============================] - 0s 1ms/step - loss: 33.2496 - accuracy: 0.8399\n",
            "Epoch 91/100\n",
            "15/15 [==============================] - 0s 1ms/step - loss: 18.3789 - accuracy: 0.9014\n",
            "Epoch 92/100\n",
            "15/15 [==============================] - 0s 1ms/step - loss: 14.4203 - accuracy: 0.9245\n",
            "Epoch 93/100\n",
            "15/15 [==============================] - 0s 1ms/step - loss: 14.8174 - accuracy: 0.9008\n",
            "Epoch 94/100\n",
            "15/15 [==============================] - 0s 1ms/step - loss: 20.8409 - accuracy: 0.8910\n",
            "Epoch 95/100\n",
            "15/15 [==============================] - 0s 2ms/step - loss: 28.5211 - accuracy: 0.8573\n",
            "Epoch 96/100\n",
            "15/15 [==============================] - 0s 1ms/step - loss: 17.0784 - accuracy: 0.9112\n",
            "Epoch 97/100\n",
            "15/15 [==============================] - 0s 1ms/step - loss: 22.7518 - accuracy: 0.8727\n",
            "Epoch 98/100\n",
            "15/15 [==============================] - 0s 1ms/step - loss: 13.6196 - accuracy: 0.9084\n",
            "Epoch 99/100\n",
            "15/15 [==============================] - 0s 1ms/step - loss: 11.1499 - accuracy: 0.9321\n",
            "Epoch 100/100\n",
            "15/15 [==============================] - 0s 1ms/step - loss: 18.0967 - accuracy: 0.8769\n"
          ],
          "name": "stdout"
        }
      ]
    },
    {
      "cell_type": "code",
      "metadata": {
        "colab": {
          "base_uri": "https://localhost:8080/",
          "height": 265
        },
        "id": "CUALIPCB5V5e",
        "outputId": "2d4ec531-2494-4acc-d38c-b4830ccc1333"
      },
      "source": [
        "plt.plot(history.history['loss'])\n",
        "plt.show()"
      ],
      "execution_count": 24,
      "outputs": [
        {
          "output_type": "display_data",
          "data": {
            "image/png": "[encoded data removed]",
            "text/plain": [
              "<Figure size 432x288 with 1 Axes>"
            ]
          },
          "metadata": {
            "tags": [],
            "needs_background": "light"
          }
        }
      ]
    },
    {
      "cell_type": "code",
      "metadata": {
        "colab": {
          "base_uri": "https://localhost:8080/",
          "height": 265
        },
        "id": "itJAqFDS5mTn",
        "outputId": "06552539-93cb-49ab-a6f3-c13cb0a24647"
      },
      "source": [
        "plt.plot(history.history['accuracy'])\n",
        "plt.show()"
      ],
      "execution_count": 25,
      "outputs": [
        {
          "output_type": "display_data",
          "data": {
            "image/png": "[encoded data removed]",
            "text/plain": [
              "<Figure size 432x288 with 1 Axes>"
            ]
          },
          "metadata": {
            "tags": [],
            "needs_background": "light"
          }
        }
      ]
    },
    {
      "cell_type": "code",
      "metadata": {
        "colab": {
          "base_uri": "https://localhost:8080/"
        },
        "id": "Y--T72FI5t_X",
        "outputId": "240d97f7-b3c9-4938-ebe1-12f43dd2af48"
      },
      "source": [
        "print('Acc : ', history.history['accuracy'][-1])"
      ],
      "execution_count": 26,
      "outputs": [
        {
          "output_type": "stream",
          "text": [
            "Acc :  0.8835164904594421\n"
          ],
          "name": "stdout"
        }
      ]
    },
    {
      "cell_type": "code",
      "metadata": {
        "colab": {
          "base_uri": "https://localhost:8080/"
        },
        "id": "J_25SVUP5690",
        "outputId": "40c7d9f4-0e60-456f-e486-c7e3ff98b088"
      },
      "source": [
        "predict = tf.model.predict([x_test])\n",
        "y_predict = [1 if i > 0.5 else 0 for i in predict]\n",
        "np.mean(y_predict == y_test)"
      ],
      "execution_count": 27,
      "outputs": [
        {
          "output_type": "execute_result",
          "data": {
            "text/plain": [
              "0.7280701754385965"
            ]
          },
          "metadata": {
            "tags": []
          },
          "execution_count": 27
        }
      ]
    },
    {
      "cell_type": "code",
      "metadata": {
        "id": "fcYXXn7W6Nio"
      },
      "source": [
        ""
      ],
      "execution_count": null,
      "outputs": []
    }
  ]
}