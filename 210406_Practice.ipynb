{
  "nbformat": 4,
  "nbformat_minor": 0,
  "metadata": {
    "colab": {
      "name": "210406_Practice.ipynb",
      "provenance": [],
      "authorship_tag": "ABX9TyPfRdYpSqmfHCLjtml8ERJn",
      "include_colab_link": true
    },
    "kernelspec": {
      "name": "python3",
      "display_name": "Python 3"
    },
    "language_info": {
      "name": "python"
    }
  },
  "cells": [
    {
      "cell_type": "markdown",
      "metadata": {
        "id": "view-in-github",
        "colab_type": "text"
      },
      "source": [
        "<a href=\"https://colab.research.google.com/github/Dawon00/Deep_Learning_Seminar/blob/master/210406_Practice.ipynb\" target=\"_parent\"><img src=\"https://colab.research.google.com/assets/colab-badge.svg\" alt=\"Open In Colab\"/></a>"
      ]
    },
    {
      "cell_type": "markdown",
      "metadata": {
        "id": "n9eubUbb7TxT"
      },
      "source": [
        "# python"
      ]
    },
    {
      "cell_type": "code",
      "metadata": {
        "colab": {
          "base_uri": "https://localhost:8080/"
        },
        "id": "q5SSUDlEw2fw",
        "outputId": "73dc7793-b050-4716-b458-f565d4034cd8"
      },
      "source": [
        "import tensorflow as tf\n",
        "import numpy as np\n",
        "from sklearn.datasets import load_breast_cancer\n",
        "\n",
        "cancer = load_breast_cancer()\n",
        "y = cancer.target\n",
        "\n",
        "# 속성별 평균\n",
        "m = cancer.data.mean(axis=0)\n",
        "# 속성별 표준편차\n",
        "s = cancer.data.std(axis=0)\n",
        "# 정규 데이터\n",
        "x = (cancer.data - m)/s\n",
        "\n",
        "print(x.shape, y.shape)\n"
      ],
      "execution_count": 2,
      "outputs": [
        {
          "output_type": "stream",
          "text": [
            "(569, 30) (569,)\n"
          ],
          "name": "stdout"
        }
      ]
    },
    {
      "cell_type": "code",
      "metadata": {
        "colab": {
          "base_uri": "https://localhost:8080/"
        },
        "id": "7O-Z5WudxQX-",
        "outputId": "b27ef7e5-c675-44f5-e589-287c9c2c2f8f"
      },
      "source": [
        "x[0]"
      ],
      "execution_count": 3,
      "outputs": [
        {
          "output_type": "execute_result",
          "data": {
            "text/plain": [
              "array([ 1.09706398, -2.07333501,  1.26993369,  0.9843749 ,  1.56846633,\n",
              "        3.28351467,  2.65287398,  2.53247522,  2.21751501,  2.25574689,\n",
              "        2.48973393, -0.56526506,  2.83303087,  2.48757756, -0.21400165,\n",
              "        1.31686157,  0.72402616,  0.66081994,  1.14875667,  0.90708308,\n",
              "        1.88668963, -1.35929347,  2.30360062,  2.00123749,  1.30768627,\n",
              "        2.61666502,  2.10952635,  2.29607613,  2.75062224,  1.93701461])"
            ]
          },
          "metadata": {
            "tags": []
          },
          "execution_count": 3
        }
      ]
    },
    {
      "cell_type": "code",
      "metadata": {
        "colab": {
          "base_uri": "https://localhost:8080/",
          "height": 279
        },
        "id": "0IsgnpkqxgYU",
        "outputId": "06d43bbc-9ce7-4042-e18b-ece9044262a7"
      },
      "source": [
        "import matplotlib.pyplot as plt\n",
        "\n",
        "plt.boxplot(x)\n",
        "plt.xlabel('feature')\n",
        "plt.ylabel('value')\n",
        "plt.show()"
      ],
      "execution_count": 4,
      "outputs": [
        {
          "output_type": "display_data",
          "data": {
            "image/png": "[encoded data removed]",
            "text/plain": [
              "<Figure size 432x288 with 1 Axes>"
            ]
          },
          "metadata": {
            "tags": [],
            "needs_background": "light"
          }
        }
      ]
    },
    {
      "cell_type": "code",
      "metadata": {
        "colab": {
          "base_uri": "https://localhost:8080/"
        },
        "id": "lye3nhkxxw6U",
        "outputId": "3601b79b-f524-46d1-ec83-31d0f8b44576"
      },
      "source": [
        "import numpy as np\n",
        "\n",
        "np.unique(y, return_counts=True)"
      ],
      "execution_count": 5,
      "outputs": [
        {
          "output_type": "execute_result",
          "data": {
            "text/plain": [
              "(array([0, 1]), array([212, 357]))"
            ]
          },
          "metadata": {
            "tags": []
          },
          "execution_count": 5
        }
      ]
    },
    {
      "cell_type": "code",
      "metadata": {
        "colab": {
          "base_uri": "https://localhost:8080/"
        },
        "id": "rpuz5-SRyRK9",
        "outputId": "2a61c199-e0bd-4fd1-fcdf-54ef2c96d33e"
      },
      "source": [
        "from sklearn.model_selection import train_test_split\n",
        "\n",
        "x_train, x_test, y_train, y_test = train_test_split(x, y, stratify = y, test_size = 0.2, random_state = 22) #test : train = 2: 8\n",
        "print(x_train.shape, y_train.shape)\n",
        "print(x_test.shape, y_test.shape)\n",
        "\n",
        "np.unique(y_train, return_counts = True)"
      ],
      "execution_count": 6,
      "outputs": [
        {
          "output_type": "stream",
          "text": [
            "(455, 30) (455,)\n",
            "(114, 30) (114,)\n"
          ],
          "name": "stdout"
        },
        {
          "output_type": "execute_result",
          "data": {
            "text/plain": [
              "(array([0, 1]), array([170, 285]))"
            ]
          },
          "metadata": {
            "tags": []
          },
          "execution_count": 6
        }
      ]
    },
    {
      "cell_type": "code",
      "metadata": {
        "id": "oPVRovwJyumD"
      },
      "source": [
        "class LogisticRegression:\n",
        "  def __init__(self):\n",
        "    self.W = None\n",
        "    self.b = None\n",
        "\n",
        "  def forpass(self, x):\n",
        "    z = np.sum(x * self.W) + self.b\n",
        "    return z\n",
        "\n",
        "  def sigmoid(self, z):\n",
        "    a = 1 / (1 + np.exp(-z))\n",
        "    return a\n",
        "  \n",
        "  def backprop(self, x, err):\n",
        "    w_grad = x * err\n",
        "    b_grad = 1 * err\n",
        "    return w_grad, b_grad\n",
        "\n",
        "  def fit(self, x, y):\n",
        "    self.W = np.ones(x.shape[1])\n",
        "    self.b = 0\n",
        "\n",
        "    for i in range(20000 + 1):\n",
        "      for x_i, y_i in zip(x, y):\n",
        "        z = self.forpass(x_i)\n",
        "        a = self.sigmoid(z)\n",
        "        err = (y_i - a)\n",
        "        w_grad, b_grad = self.backprop(x_i, err)\n",
        "        self.W -= w_grad\n",
        "        self.b -= b_grad\n",
        "\n",
        "  def predict(self, x):\n",
        "    z = [self.forpass(x_i) for x_i in x]\n",
        "    a = self.sigmoid(np.array(z))\n",
        "    return a > 0.5\n"
      ],
      "execution_count": 7,
      "outputs": []
    },
    {
      "cell_type": "code",
      "metadata": {
        "id": "SIxnGZ7x1rQQ",
        "outputId": "f679ebd8-0cd6-4e9d-ef17-5934312cfd6b",
        "colab": {
          "base_uri": "https://localhost:8080/"
        }
      },
      "source": [
        "neuron = LogisticRegression()\n",
        "neuron.fit(x_train, y_train)"
      ],
      "execution_count": 8,
      "outputs": [
        {
          "output_type": "stream",
          "text": [
            "/usr/local/lib/python3.7/dist-packages/ipykernel_launcher.py:11: RuntimeWarning: overflow encountered in exp\n",
            "  # This is added back by InteractiveShellApp.init_path()\n"
          ],
          "name": "stderr"
        }
      ]
    },
    {
      "cell_type": "code",
      "metadata": {
        "colab": {
          "base_uri": "https://localhost:8080/"
        },
        "id": "uR2KUbBO10va",
        "outputId": "180d215c-5596-441c-a097-28b2a328f960"
      },
      "source": [
        "np.mean(neuron.predict(x_test) == y_test)"
      ],
      "execution_count": 9,
      "outputs": [
        {
          "output_type": "stream",
          "text": [
            "/usr/local/lib/python3.7/dist-packages/ipykernel_launcher.py:11: RuntimeWarning: overflow encountered in exp\n",
            "  # This is added back by InteractiveShellApp.init_path()\n"
          ],
          "name": "stderr"
        },
        {
          "output_type": "execute_result",
          "data": {
            "text/plain": [
              "0.14035087719298245"
            ]
          },
          "metadata": {
            "tags": []
          },
          "execution_count": 9
        }
      ]
    },
    {
      "cell_type": "markdown",
      "metadata": {
        "id": "5lSzJ7A535sp"
      },
      "source": [
        "#tensorflow"
      ]
    },
    {
      "cell_type": "code",
      "metadata": {
        "colab": {
          "base_uri": "https://localhost:8080/"
        },
        "id": "ugDgGAUF2nsn",
        "outputId": "22745726-6cce-4503-a0f0-d582661cd755"
      },
      "source": [
        "import tensorflow as tf\n",
        "\n",
        "tf.model = tf.keras.Sequential()\n",
        "tf.model.add(tf.keras.layers.Dense(units = 1, input_dim = x_train.shape[1], activation='sigmoid'))#units = output shape, input_dim은 들어오는 데이터의 차원\n",
        "tf.model.compile(loss='binary_crossentropy', optimizer=tf.keras.optimizers.SGD(lr=0.003), metrics=['accuracy'])\n",
        "tf.model.summary()"
      ],
      "execution_count": 10,
      "outputs": [
        {
          "output_type": "stream",
          "text": [
            "Model: \"sequential\"\n",
            "_________________________________________________________________\n",
            "Layer (type)                 Output Shape              Param #   \n",
            "=================================================================\n",
            "dense (Dense)                (None, 1)                 31        \n",
            "=================================================================\n",
            "Total params: 31\n",
            "Trainable params: 31\n",
            "Non-trainable params: 0\n",
            "_________________________________________________________________\n"
          ],
          "name": "stdout"
        }
      ]
    },
    {
      "cell_type": "code",
      "metadata": {
        "colab": {
          "base_uri": "https://localhost:8080/"
        },
        "id": "yejpDxac441D",
        "outputId": "79848146-1ca2-45d0-ee86-4abb0ec31e65"
      },
      "source": [
        "history = tf.model.fit(x_train, y_train, epochs = 100)#history에 오차와 정확도가 담긴다"
      ],
      "execution_count": 11,
      "outputs": [
        {
          "output_type": "stream",
          "text": [
            "Epoch 1/100\n",
            "15/15 [==============================] - 1s 1ms/step - loss: 0.5134 - accuracy: 0.7780\n",
            "Epoch 2/100\n",
            "15/15 [==============================] - 0s 1ms/step - loss: 0.4536 - accuracy: 0.8299\n",
            "Epoch 3/100\n",
            "15/15 [==============================] - 0s 1ms/step - loss: 0.4633 - accuracy: 0.8219\n",
            "Epoch 4/100\n",
            "15/15 [==============================] - 0s 1ms/step - loss: 0.4460 - accuracy: 0.8180\n",
            "Epoch 5/100\n",
            "15/15 [==============================] - 0s 1ms/step - loss: 0.4717 - accuracy: 0.8147\n",
            "Epoch 6/100\n",
            "15/15 [==============================] - 0s 1ms/step - loss: 0.4364 - accuracy: 0.8304\n",
            "Epoch 7/100\n",
            "15/15 [==============================] - 0s 1ms/step - loss: 0.4021 - accuracy: 0.8329\n",
            "Epoch 8/100\n",
            "15/15 [==============================] - 0s 1ms/step - loss: 0.3800 - accuracy: 0.8315\n",
            "Epoch 9/100\n",
            "15/15 [==============================] - 0s 1ms/step - loss: 0.3480 - accuracy: 0.8604\n",
            "Epoch 10/100\n",
            "15/15 [==============================] - 0s 2ms/step - loss: 0.3927 - accuracy: 0.8584\n",
            "Epoch 11/100\n",
            "15/15 [==============================] - 0s 2ms/step - loss: 0.3480 - accuracy: 0.8681\n",
            "Epoch 12/100\n",
            "15/15 [==============================] - 0s 1ms/step - loss: 0.3530 - accuracy: 0.8727\n",
            "Epoch 13/100\n",
            "15/15 [==============================] - 0s 1ms/step - loss: 0.3153 - accuracy: 0.8902\n",
            "Epoch 14/100\n",
            "15/15 [==============================] - 0s 1ms/step - loss: 0.3120 - accuracy: 0.8841\n",
            "Epoch 15/100\n",
            "15/15 [==============================] - 0s 2ms/step - loss: 0.3106 - accuracy: 0.8791\n",
            "Epoch 16/100\n",
            "15/15 [==============================] - 0s 2ms/step - loss: 0.3152 - accuracy: 0.8664\n",
            "Epoch 17/100\n",
            "15/15 [==============================] - 0s 1ms/step - loss: 0.2731 - accuracy: 0.9081\n",
            "Epoch 18/100\n",
            "15/15 [==============================] - 0s 1ms/step - loss: 0.2953 - accuracy: 0.8605\n",
            "Epoch 19/100\n",
            "15/15 [==============================] - 0s 2ms/step - loss: 0.2806 - accuracy: 0.8887\n",
            "Epoch 20/100\n",
            "15/15 [==============================] - 0s 2ms/step - loss: 0.2909 - accuracy: 0.8837\n",
            "Epoch 21/100\n",
            "15/15 [==============================] - 0s 1ms/step - loss: 0.2667 - accuracy: 0.8960\n",
            "Epoch 22/100\n",
            "15/15 [==============================] - 0s 2ms/step - loss: 0.2606 - accuracy: 0.9042\n",
            "Epoch 23/100\n",
            "15/15 [==============================] - 0s 1ms/step - loss: 0.2611 - accuracy: 0.9035\n",
            "Epoch 24/100\n",
            "15/15 [==============================] - 0s 2ms/step - loss: 0.2728 - accuracy: 0.8874\n",
            "Epoch 25/100\n",
            "15/15 [==============================] - 0s 1ms/step - loss: 0.2362 - accuracy: 0.9085\n",
            "Epoch 26/100\n",
            "15/15 [==============================] - 0s 1ms/step - loss: 0.2699 - accuracy: 0.8927\n",
            "Epoch 27/100\n",
            "15/15 [==============================] - 0s 1ms/step - loss: 0.2406 - accuracy: 0.9072\n",
            "Epoch 28/100\n",
            "15/15 [==============================] - 0s 1ms/step - loss: 0.2607 - accuracy: 0.8917\n",
            "Epoch 29/100\n",
            "15/15 [==============================] - 0s 2ms/step - loss: 0.2585 - accuracy: 0.9016\n",
            "Epoch 30/100\n",
            "15/15 [==============================] - 0s 1ms/step - loss: 0.2484 - accuracy: 0.9100\n",
            "Epoch 31/100\n",
            "15/15 [==============================] - 0s 1ms/step - loss: 0.2476 - accuracy: 0.9109\n",
            "Epoch 32/100\n",
            "15/15 [==============================] - 0s 1ms/step - loss: 0.2261 - accuracy: 0.9219\n",
            "Epoch 33/100\n",
            "15/15 [==============================] - 0s 1ms/step - loss: 0.2207 - accuracy: 0.9115\n",
            "Epoch 34/100\n",
            "15/15 [==============================] - 0s 2ms/step - loss: 0.2342 - accuracy: 0.9099\n",
            "Epoch 35/100\n",
            "15/15 [==============================] - 0s 1ms/step - loss: 0.2131 - accuracy: 0.9118\n",
            "Epoch 36/100\n",
            "15/15 [==============================] - 0s 1ms/step - loss: 0.2565 - accuracy: 0.8908\n",
            "Epoch 37/100\n",
            "15/15 [==============================] - 0s 1ms/step - loss: 0.2245 - accuracy: 0.9072\n",
            "Epoch 38/100\n",
            "15/15 [==============================] - 0s 1ms/step - loss: 0.2372 - accuracy: 0.9077\n",
            "Epoch 39/100\n",
            "15/15 [==============================] - 0s 1ms/step - loss: 0.2173 - accuracy: 0.9258\n",
            "Epoch 40/100\n",
            "15/15 [==============================] - 0s 1ms/step - loss: 0.2097 - accuracy: 0.9180\n",
            "Epoch 41/100\n",
            "15/15 [==============================] - 0s 1ms/step - loss: 0.2171 - accuracy: 0.9200\n",
            "Epoch 42/100\n",
            "15/15 [==============================] - 0s 1ms/step - loss: 0.2051 - accuracy: 0.9269\n",
            "Epoch 43/100\n",
            "15/15 [==============================] - 0s 1ms/step - loss: 0.2066 - accuracy: 0.9174\n",
            "Epoch 44/100\n",
            "15/15 [==============================] - 0s 1ms/step - loss: 0.2018 - accuracy: 0.9242\n",
            "Epoch 45/100\n",
            "15/15 [==============================] - 0s 1ms/step - loss: 0.2014 - accuracy: 0.9128\n",
            "Epoch 46/100\n",
            "15/15 [==============================] - 0s 1ms/step - loss: 0.2049 - accuracy: 0.9230\n",
            "Epoch 47/100\n",
            "15/15 [==============================] - 0s 1ms/step - loss: 0.2070 - accuracy: 0.9183\n",
            "Epoch 48/100\n",
            "15/15 [==============================] - 0s 1ms/step - loss: 0.1829 - accuracy: 0.9365\n",
            "Epoch 49/100\n",
            "15/15 [==============================] - 0s 1ms/step - loss: 0.1991 - accuracy: 0.9106\n",
            "Epoch 50/100\n",
            "15/15 [==============================] - 0s 1ms/step - loss: 0.1940 - accuracy: 0.9210\n",
            "Epoch 51/100\n",
            "15/15 [==============================] - 0s 2ms/step - loss: 0.1953 - accuracy: 0.9228\n",
            "Epoch 52/100\n",
            "15/15 [==============================] - 0s 1ms/step - loss: 0.1744 - accuracy: 0.9332\n",
            "Epoch 53/100\n",
            "15/15 [==============================] - 0s 1ms/step - loss: 0.1762 - accuracy: 0.9367\n",
            "Epoch 54/100\n",
            "15/15 [==============================] - 0s 2ms/step - loss: 0.1970 - accuracy: 0.9330\n",
            "Epoch 55/100\n",
            "15/15 [==============================] - 0s 2ms/step - loss: 0.2040 - accuracy: 0.9215\n",
            "Epoch 56/100\n",
            "15/15 [==============================] - 0s 1ms/step - loss: 0.1598 - accuracy: 0.9531\n",
            "Epoch 57/100\n",
            "15/15 [==============================] - 0s 2ms/step - loss: 0.1839 - accuracy: 0.9306\n",
            "Epoch 58/100\n",
            "15/15 [==============================] - 0s 2ms/step - loss: 0.1920 - accuracy: 0.9185\n",
            "Epoch 59/100\n",
            "15/15 [==============================] - 0s 1ms/step - loss: 0.1694 - accuracy: 0.9352\n",
            "Epoch 60/100\n",
            "15/15 [==============================] - 0s 2ms/step - loss: 0.1710 - accuracy: 0.9457\n",
            "Epoch 61/100\n",
            "15/15 [==============================] - 0s 1ms/step - loss: 0.1856 - accuracy: 0.9213\n",
            "Epoch 62/100\n",
            "15/15 [==============================] - 0s 2ms/step - loss: 0.1595 - accuracy: 0.9500\n",
            "Epoch 63/100\n",
            "15/15 [==============================] - 0s 1ms/step - loss: 0.1753 - accuracy: 0.9253\n",
            "Epoch 64/100\n",
            "15/15 [==============================] - 0s 1ms/step - loss: 0.1509 - accuracy: 0.9467\n",
            "Epoch 65/100\n",
            "15/15 [==============================] - 0s 1ms/step - loss: 0.1603 - accuracy: 0.9453\n",
            "Epoch 66/100\n",
            "15/15 [==============================] - 0s 1ms/step - loss: 0.1607 - accuracy: 0.9353\n",
            "Epoch 67/100\n",
            "15/15 [==============================] - 0s 1ms/step - loss: 0.1782 - accuracy: 0.9121\n",
            "Epoch 68/100\n",
            "15/15 [==============================] - 0s 1ms/step - loss: 0.1736 - accuracy: 0.9404\n",
            "Epoch 69/100\n",
            "15/15 [==============================] - 0s 1ms/step - loss: 0.1581 - accuracy: 0.9420\n",
            "Epoch 70/100\n",
            "15/15 [==============================] - 0s 1ms/step - loss: 0.1593 - accuracy: 0.9407\n",
            "Epoch 71/100\n",
            "15/15 [==============================] - 0s 1ms/step - loss: 0.1661 - accuracy: 0.9338\n",
            "Epoch 72/100\n",
            "15/15 [==============================] - 0s 1ms/step - loss: 0.1544 - accuracy: 0.9478\n",
            "Epoch 73/100\n",
            "15/15 [==============================] - 0s 1ms/step - loss: 0.1581 - accuracy: 0.9363\n",
            "Epoch 74/100\n",
            "15/15 [==============================] - 0s 1ms/step - loss: 0.1548 - accuracy: 0.9366\n",
            "Epoch 75/100\n",
            "15/15 [==============================] - 0s 1ms/step - loss: 0.1517 - accuracy: 0.9457\n",
            "Epoch 76/100\n",
            "15/15 [==============================] - 0s 1ms/step - loss: 0.1621 - accuracy: 0.9311\n",
            "Epoch 77/100\n",
            "15/15 [==============================] - 0s 1ms/step - loss: 0.1658 - accuracy: 0.9353\n",
            "Epoch 78/100\n",
            "15/15 [==============================] - 0s 2ms/step - loss: 0.1613 - accuracy: 0.9345\n",
            "Epoch 79/100\n",
            "15/15 [==============================] - 0s 1ms/step - loss: 0.1665 - accuracy: 0.9242\n",
            "Epoch 80/100\n",
            "15/15 [==============================] - 0s 1ms/step - loss: 0.1443 - accuracy: 0.9541\n",
            "Epoch 81/100\n",
            "15/15 [==============================] - 0s 1ms/step - loss: 0.1452 - accuracy: 0.9453\n",
            "Epoch 82/100\n",
            "15/15 [==============================] - 0s 1ms/step - loss: 0.1411 - accuracy: 0.9531\n",
            "Epoch 83/100\n",
            "15/15 [==============================] - 0s 2ms/step - loss: 0.1464 - accuracy: 0.9485\n",
            "Epoch 84/100\n",
            "15/15 [==============================] - 0s 1ms/step - loss: 0.1537 - accuracy: 0.9442\n",
            "Epoch 85/100\n",
            "15/15 [==============================] - 0s 1ms/step - loss: 0.1675 - accuracy: 0.9362\n",
            "Epoch 86/100\n",
            "15/15 [==============================] - 0s 1ms/step - loss: 0.1458 - accuracy: 0.9493\n",
            "Epoch 87/100\n",
            "15/15 [==============================] - 0s 1ms/step - loss: 0.1467 - accuracy: 0.9436\n",
            "Epoch 88/100\n",
            "15/15 [==============================] - 0s 2ms/step - loss: 0.1286 - accuracy: 0.9518\n",
            "Epoch 89/100\n",
            "15/15 [==============================] - 0s 1ms/step - loss: 0.1504 - accuracy: 0.9319\n",
            "Epoch 90/100\n",
            "15/15 [==============================] - 0s 2ms/step - loss: 0.1509 - accuracy: 0.9408\n",
            "Epoch 91/100\n",
            "15/15 [==============================] - 0s 1ms/step - loss: 0.1555 - accuracy: 0.9337\n",
            "Epoch 92/100\n",
            "15/15 [==============================] - 0s 2ms/step - loss: 0.1338 - accuracy: 0.9539\n",
            "Epoch 93/100\n",
            "15/15 [==============================] - 0s 1ms/step - loss: 0.1547 - accuracy: 0.9469\n",
            "Epoch 94/100\n",
            "15/15 [==============================] - 0s 1ms/step - loss: 0.1738 - accuracy: 0.9409\n",
            "Epoch 95/100\n",
            "15/15 [==============================] - 0s 1ms/step - loss: 0.1330 - accuracy: 0.9518\n",
            "Epoch 96/100\n",
            "15/15 [==============================] - 0s 2ms/step - loss: 0.1367 - accuracy: 0.9614\n",
            "Epoch 97/100\n",
            "15/15 [==============================] - 0s 1ms/step - loss: 0.1424 - accuracy: 0.9567\n",
            "Epoch 98/100\n",
            "15/15 [==============================] - 0s 1ms/step - loss: 0.1559 - accuracy: 0.9514\n",
            "Epoch 99/100\n",
            "15/15 [==============================] - 0s 1ms/step - loss: 0.1495 - accuracy: 0.9418\n",
            "Epoch 100/100\n",
            "15/15 [==============================] - 0s 2ms/step - loss: 0.1391 - accuracy: 0.9509\n"
          ],
          "name": "stdout"
        }
      ]
    },
    {
      "cell_type": "code",
      "metadata": {
        "colab": {
          "base_uri": "https://localhost:8080/",
          "height": 265
        },
        "id": "CUALIPCB5V5e",
        "outputId": "197f79c6-9543-483b-d873-62042dbbcfad"
      },
      "source": [
        "plt.plot(history.history['loss'])\n",
        "plt.show()"
      ],
      "execution_count": 12,
      "outputs": [
        {
          "output_type": "display_data",
          "data": {
            "image/png": "[encoded data removed]",
            "text/plain": [
              "<Figure size 432x288 with 1 Axes>"
            ]
          },
          "metadata": {
            "tags": [],
            "needs_background": "light"
          }
        }
      ]
    },
    {
      "cell_type": "code",
      "metadata": {
        "colab": {
          "base_uri": "https://localhost:8080/",
          "height": 265
        },
        "id": "itJAqFDS5mTn",
        "outputId": "9c24a190-1109-477f-84e6-dc31461c5a20"
      },
      "source": [
        "plt.plot(history.history['accuracy'])\n",
        "plt.show()"
      ],
      "execution_count": 13,
      "outputs": [
        {
          "output_type": "display_data",
          "data": {
            "image/png": "[encoded data removed]",
            "text/plain": [
              "<Figure size 432x288 with 1 Axes>"
            ]
          },
          "metadata": {
            "tags": [],
            "needs_background": "light"
          }
        }
      ]
    },
    {
      "cell_type": "code",
      "metadata": {
        "colab": {
          "base_uri": "https://localhost:8080/"
        },
        "id": "Y--T72FI5t_X",
        "outputId": "ca1c162b-22fa-404a-e4dd-1d072f79e17e"
      },
      "source": [
        "print('Acc : ', history.history['accuracy'][-1])"
      ],
      "execution_count": 14,
      "outputs": [
        {
          "output_type": "stream",
          "text": [
            "Acc :  0.9516483545303345\n"
          ],
          "name": "stdout"
        }
      ]
    },
    {
      "cell_type": "code",
      "metadata": {
        "colab": {
          "base_uri": "https://localhost:8080/"
        },
        "id": "J_25SVUP5690",
        "outputId": "37996bc4-5cbe-48e2-a370-18b0c41509db"
      },
      "source": [
        "predict = tf.model.predict([x_test])\n",
        "y_predict = [1 if i > 0.5 else 0 for i in predict]\n",
        "np.mean(y_predict == y_test)"
      ],
      "execution_count": 15,
      "outputs": [
        {
          "output_type": "execute_result",
          "data": {
            "text/plain": [
              "0.9210526315789473"
            ]
          },
          "metadata": {
            "tags": []
          },
          "execution_count": 15
        }
      ]
    },
    {
      "cell_type": "code",
      "metadata": {
        "id": "fcYXXn7W6Nio"
      },
      "source": [
        ""
      ],
      "execution_count": null,
      "outputs": []
    }
  ]
}