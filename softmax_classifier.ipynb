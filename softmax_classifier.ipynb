{
  "nbformat": 4,
  "nbformat_minor": 0,
  "metadata": {
    "colab": {
      "name": "softmax_classifier.ipynb",
      "provenance": [],
      "authorship_tag": "ABX9TyPpDwYTwRl9nGAio4mo44PR",
      "include_colab_link": true
    },
    "kernelspec": {
      "name": "python3",
      "display_name": "Python 3"
    },
    "language_info": {
      "name": "python"
    }
  },
  "cells": [
    {
      "cell_type": "markdown",
      "metadata": {
        "id": "view-in-github",
        "colab_type": "text"
      },
      "source": [
        "<a href=\"https://colab.research.google.com/github/Dawon00/Deep_Learning_Seminar/blob/master/softmax_classifier.ipynb\" target=\"_parent\"><img src=\"https://colab.research.google.com/assets/colab-badge.svg\" alt=\"Open In Colab\"/></a>"
      ]
    },
    {
      "cell_type": "code",
      "metadata": {
        "colab": {
          "base_uri": "https://localhost:8080/"
        },
        "id": "7STHREk8LKMP",
        "outputId": "db619035-08a8-4507-a2a6-ce7f1ff3c8e0"
      },
      "source": [
        "import tensorflow.compat.v1 as tf\n",
        "tf.disable_v2_behavior()\n",
        "\n",
        "x_data = [[1, 2, 1, 1],\n",
        "          [2, 1, 3, 2],\n",
        "          [3, 1, 3, 4],\n",
        "          [4, 1, 5, 5],\n",
        "          [1, 7, 5, 5],\n",
        "          [1, 2, 5, 6],\n",
        "          [1, 6, 6, 6],\n",
        "          [1, 7, 7, 7]]\n",
        "y_data = [[0, 0, 1],\n",
        "          [0, 0, 1],\n",
        "          [0, 0, 1],\n",
        "          [0, 1, 0],\n",
        "          [0, 1, 0],\n",
        "          [0, 1, 0],\n",
        "          [1, 0, 0],\n",
        "          [1, 0, 0]]\n",
        "\n",
        "X = tf.placeholder(\"float\", [None, 4])\n",
        "Y = tf.placeholder(\"float\", [None, 3])\n",
        "nb_classes = 3\n",
        "\n",
        "W = tf.Variable(tf.random_normal([4, nb_classes]), name='weight')\n",
        "b = tf.Variable(tf.random_normal([nb_classes]), name='bias')\n",
        "\n",
        "# tf.nn.softmax computes softmax activations\n",
        "# softmax = exp(logits) / reduce_sum(exp(logits), dim)\n",
        "hypothesis = tf.nn.softmax(tf.matmul(X, W) + b)\n",
        "\n",
        "# Cross entropy cost/loss\n",
        "cost = tf.reduce_mean(-tf.reduce_sum(Y * tf.log(hypothesis), axis=1))\n",
        "\n",
        "optimizer = tf.train.GradientDescentOptimizer(learning_rate=0.1).minimize(cost)\n",
        "\n",
        "# Launch graph\n",
        "with tf.Session() as sess:\n",
        "    sess.run(tf.global_variables_initializer())\n",
        "\n",
        "    for step in range(2001):\n",
        "            _, cost_val = sess.run([optimizer, cost], feed_dict={X: x_data, Y: y_data})\n",
        "\n",
        "            if step % 200 == 0:\n",
        "                print(step, cost_val)\n",
        "\n",
        "    print('--------------')\n",
        "    # Testing & One-hot encoding\n",
        "    a = sess.run(hypothesis, feed_dict={X: [[1, 11, 7, 9]]})\n",
        "    print(a, sess.run(tf.argmax(a, 1)))\n",
        "\n",
        "    print('--------------')\n",
        "    b = sess.run(hypothesis, feed_dict={X: [[1, 3, 4, 3]]})\n",
        "    print(b, sess.run(tf.argmax(b, 1)))\n",
        "\n",
        "    print('--------------')\n",
        "    c = sess.run(hypothesis, feed_dict={X: [[1, 1, 0, 1]]})\n",
        "    print(c, sess.run(tf.argmax(c, 1)))\n",
        "\n",
        "    print('--------------')\n",
        "    all = sess.run(hypothesis, feed_dict={X: [[1, 11, 7, 9], [1, 3, 4, 3], [1, 1, 0, 1]]})\n",
        "    print(all, sess.run(tf.argmax(all, 1)))"
      ],
      "execution_count": 1,
      "outputs": [
        {
          "output_type": "stream",
          "text": [
            "WARNING:tensorflow:From /usr/local/lib/python3.7/dist-packages/tensorflow/python/compat/v2_compat.py:96: disable_resource_variables (from tensorflow.python.ops.variable_scope) is deprecated and will be removed in a future version.\n",
            "Instructions for updating:\n",
            "non-resource variables are not supported in the long term\n",
            "0 7.157412\n",
            "200 0.63565844\n",
            "400 0.5274664\n",
            "600 0.4333724\n",
            "800 0.3420249\n",
            "1000 0.25666124\n",
            "1200 0.22525886\n",
            "1400 0.20511763\n",
            "1600 0.18815802\n",
            "1800 0.17368944\n",
            "2000 0.16120964\n",
            "--------------\n",
            "[[1.4701919e-02 9.8528856e-01 9.4777533e-06]] [1]\n",
            "--------------\n",
            "[[0.76981056 0.21015847 0.02003096]] [0]\n",
            "--------------\n",
            "[[1.5808862e-08 3.7481132e-04 9.9962521e-01]] [2]\n",
            "--------------\n",
            "[[1.4701912e-02 9.8528856e-01 9.4777452e-06]\n",
            " [7.6981056e-01 2.1015847e-01 2.0030983e-02]\n",
            " [1.5808862e-08 3.7481132e-04 9.9962521e-01]] [1 0 2]\n"
          ],
          "name": "stdout"
        }
      ]
    }
  ]
}